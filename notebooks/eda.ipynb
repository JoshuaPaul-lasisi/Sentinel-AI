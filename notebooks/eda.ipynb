{
 "cells": [
  {
   "cell_type": "markdown",
   "metadata": {},
   "source": [
    "# Exploratory Data Analysis (EDA) on Synthetic Fraud Detection Data\n",
    "\n",
    "This notebook is used for performing exploratory data analysis on the synthetic data generated for the fraud detection system. The analysis will help in understanding the data distributions, relationships, and potential features for model training."
   ]
  },
  {
   "cell_type": "code",
   "execution_count": null,
   "metadata": {},
   "outputs": [],
   "source": [
    "# Import necessary libraries\n",
    "import pandas as pd\n",
    "import numpy as np\n",
    "import matplotlib.pyplot as plt\n",
    "import seaborn as sns\n",
    "\n",
    "# Set visualization style\n",
    "sns.set(style='whitegrid')"
   ]
  },
  {
   "cell_type": "code",
   "execution_count": null,
   "metadata": {},
   "outputs": [],
   "source": [
    "# Load the synthetic data\n",
    "customers = pd.read_csv('../data/synthetic/customers.csv')\n",
    "devices = pd.read_csv('../data/synthetic/devices.csv')\n",
    "transactions = pd.read_csv('../data/synthetic/transactions.csv')\n",
    "\n",
    "# Display the first few rows of each dataset\n",
    "print('Customers Data:')\n",
    "display(customers.head())\n",
    "\n",
    "print('Devices Data:')\n",
    "display(devices.head())\n",
    "\n",
    "print('Transactions Data:')\n",
    "display(transactions.head())"
   ]
  },
  {
   "cell_type": "code",
   "execution_count": null,
   "metadata": {},
   "outputs": [],
   "source": [
    "# Summary statistics of the datasets\n",
    "print('Customers Summary:')\n",
    "display(customers.describe())\n",
    "\n",
    "print('Devices Summary:')\n",
    "display(devices.describe())\n",
    "\n",
    "print('Transactions Summary:')\n",
    "display(transactions.describe())"
   ]
  },
  {
   "cell_type": "code",
   "execution_count": null,
   "metadata": {},
   "outputs": [],
   "source": [
    "# Visualize the distribution of transaction amounts\n",
    "plt.figure(figsize=(10, 6))\n",
    "sns.histplot(transactions['amount'], bins=50, kde=True)\n",
    "plt.title('Distribution of Transaction Amounts')\n",
    "plt.xlabel('Amount')\n",
    "plt.ylabel('Frequency')\n",
    "plt.show()"
   ]
  },
  {
   "cell_type": "code",
   "execution_count": null,
   "metadata": {},
   "outputs": [],
   "source": [
    "# Analyze the relationship between customer risk level and fraud labels\n",
    "plt.figure(figsize=(10, 6))\n",
    "sns.countplot(data=transactions, x='customer_risk_level', hue='fraud_label_id')\n",
    "plt.title('Customer Risk Level vs Fraud Labels')\n",
    "plt.xlabel('Customer Risk Level')\n",
    "plt.ylabel('Count')\n",
    "plt.legend(title='Fraud Label', loc='upper right', labels=['Legit', 'Suspicious', 'Fraud'])\n",
    "plt.show()"
   ]
  },
  {
   "cell_type": "code",
   "execution_count": null,
   "metadata": {},
   "outputs": [],
   "source": [
    "# Correlation heatmap of transaction features\n",
    "plt.figure(figsize=(12, 8))\n",
    "correlation_matrix = transactions.corr()\n",
    "sns.heatmap(correlation_matrix, annot=True, fmt='.2f', cmap='coolwarm', square=True)\n",
    "plt.title('Correlation Heatmap of Transaction Features')\n",
    "plt.show()"
   ]
  },
  {
   "cell_type": "markdown",
   "metadata": {},
   "source": [
    "## Conclusion\n",
    "\n",
    "This notebook provides a preliminary analysis of the synthetic data generated for the fraud detection system. Further analysis and feature engineering will be necessary to prepare the data for model training."
   ]
  }
 ],
 "metadata": {
  "kernelspec": {
   "display_name": "Python 3",
   "language": "python",
   "name": "python3"
  },
  "language_info": {
   "codemirror_mode": {
    "name": "ipython",
    "version": 3
   },
   "file_extension": ".py",
   "mimetype": "text/x-python",
   "name": "python",
   "nbconvert_exporter": "python",
   "pygments_lexer": "ipython3",
   "version": "3.8.5"
  }
 },
 "nbformat": 4,
 "nbformat_minor": 4
}